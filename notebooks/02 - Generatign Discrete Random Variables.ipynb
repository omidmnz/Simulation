{
 "cells": [
  {
   "cell_type": "markdown",
   "metadata": {},
   "source": [
    "# Generating Discrete Random Variables\n",
    "\n",
    "## Inverse Transform Method\n",
    "- Generate from $p = [p_1, p_2, \\cdots, p_n]$\n",
    "- Random Permutations\n",
    "- Calculating Averages\n",
    "- Random Exponential\n",
    "- Sequence of Bernouli Random Variables\n",
    "- Reusing Random Numbers\n",
    "\n",
    "## Generating Poisson Random Variable\n",
    "- Recursive Version\n",
    "\n",
    "## Generating Binomial Random Variable\n",
    "- Recursive Version\n",
    "- Inverse Transform\n",
    "\n",
    "## Acceptance-Rejection Technique\n",
    "- Rejection Method\n",
    "- Sketch of the Proof\n",
    "- Example\n",
    "\n",
    "## Composition Approach\n",
    "- Composition of Probabily Densities\n",
    "\n",
    "## Alias Method for Discrete Random Variables\n",
    "- Lemma\n",
    "- Illustrative Examples\n",
    "- Definition\n",
    "\n",
    "## Generating Random Vectors\n",
    "\n",
    "## Selected Exercises"
   ]
  },
  {
   "cell_type": "markdown",
   "metadata": {},
   "source": [
    "***\n",
    "# Required Modules\n",
    "These are going to be necessary and sufficient modules for the whole notebook."
   ]
  },
  {
   "cell_type": "code",
   "execution_count": 1,
   "metadata": {
    "collapsed": true
   },
   "outputs": [],
   "source": [
    "import numpy as np # For all the Numerical Manipulations\n",
    "import matplotlib.pyplot as plt # For all the visualization purposes\n",
    "%matplotlib inline # For the notebook to show the plots automatically"
   ]
  }
 ],
 "metadata": {
  "kernelspec": {
   "display_name": "python2.7.12",
   "language": "python",
   "name": "python2.7.12"
  },
  "language_info": {
   "codemirror_mode": {
    "name": "ipython",
    "version": 2
   },
   "file_extension": ".py",
   "mimetype": "text/x-python",
   "name": "python",
   "nbconvert_exporter": "python",
   "pygments_lexer": "ipython2",
   "version": "2.7.12"
  }
 },
 "nbformat": 4,
 "nbformat_minor": 2
}
