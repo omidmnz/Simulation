{
 "cells": [
  {
   "cell_type": "markdown",
   "metadata": {},
   "source": [
    "Given a biased coin of unknown bias, can you generate fair random bits? Given such a coin, can you generate random bits with a desired bias? Given a random source of numbers chosen independently and uniformly from $ [0, 1] $, can you generate numbers according to a normal random variable?\n",
    "\n",
    "This chapter will focus on answering such questions, providing a range of methods varying in simplicity and efficiency.\n",
    "\n",
    "One can easily discard this chapter without affecting the understanding the rest of the lecture notes, although some of the ideas first discussed in chapter might be helpful in the following chapters.\n",
    "\n",
    "## Biasing and Unbiasing Coins\n",
    "We are discussing this subject here, not because it is of use to us, but because the ideas are simple, yet inherently beautiful, and it is related to our subject in its spirit.\n",
    "\n",
    "### Unbiasing\n",
    "Here, we will start with the following question:\n",
    "> Given a biased coin, emulate a fair one!\n",
    "\n",
    "The idea we will discuss is usually attributed to John von Neumann: throw your coin twice, count \"heads then tails\" as heads, and \"tails then heads\" as tails. Repeat on the other two cases!\n",
    "\n",
    "The two events have probability $ \\mathbb{P}(HT \\vert \\{HT, TH)\\} = \\mathbb{P}(TH \\vert \\{HT, TH)\\}) = \\frac{p(1-p)}{2p(1-p)} = \\frac{1}{2} $.\n",
    "\n",
    "Let's demonstrate the simple process:"
   ]
  },
  {
   "cell_type": "code",
   "execution_count": 7,
   "metadata": {},
   "outputs": [
    {
     "ename": "SyntaxError",
     "evalue": "can't assign to function call (<ipython-input-7-e35f92147cdd>, line 14)",
     "output_type": "error",
     "traceback": [
      "\u001b[0;36m  File \u001b[0;32m\"<ipython-input-7-e35f92147cdd>\"\u001b[0;36m, line \u001b[0;32m14\u001b[0m\n\u001b[0;31m    throws(i) = x\u001b[0m\n\u001b[0m    ^\u001b[0m\n\u001b[0;31mSyntaxError\u001b[0m\u001b[0;31m:\u001b[0m can't assign to function call\n"
     ]
    }
   ],
   "source": [
    "import numpy as np\n",
    "import matplotlib.pyplot as plt\n",
    "%matplotlib inline\n",
    "\n",
    "bias = 0.7\n",
    "nSim = 1000\n",
    "\n",
    "throws = np.zeros(nSim)\n",
    "for i in range(nSim):\n",
    "    while True:\n",
    "        x = 1 if numpy.random.random() > bias else 0\n",
    "        y = 1 if numpy.random.random() > bias else 0\n",
    "        if x != y:\n",
    "            throws(i) = x\n",
    "            break\n",
    "    \n",
    "plt.hist(throws)"
   ]
  },
  {
   "cell_type": "markdown",
   "metadata": {},
   "source": [
    "The above process takes $ \\frac{1}{p(1-p)} $ throws of the coin to obtain a single bit.\n",
    "\n",
    "### Biasing\n",
    "Now, we turn to the opposite problem! Can you build a coin of a given bias? Even an irrational bias? We can of course assume we have a fair coin, since we now know how to unbias it.\n",
    "\n",
    "For a given number $ p \\in [0, 1] $, write down the binary expansion of $p$. It is obvious that $p = \\sum_{i=1}^{\\infty} b_i (\\frac{1}{2})^i $, where $b_i$s are the numbers in the binary expansion of $p$.\n",
    "\n",
    "How can that help? We can simulate events of probability $2^{-i}$ using our coin. Just throw the fair coin until the first \"heads\" comes up! The probability that the process takes $i$ steps is exactly $2^{-i}$. If the first head comes up at $i$th position, return heads if $b_i$ is 1, and return tails otherwise.\n",
    "\n",
    "The probability of returning heads is by definition $ \\sum_{i=1}^{\\infty} b_i 2^{-i} = p $."
   ]
  }
 ],
 "metadata": {
  "kernelspec": {
   "display_name": "Python 3",
   "language": "python",
   "name": "python3"
  },
  "language_info": {
   "codemirror_mode": {
    "name": "ipython",
    "version": 3
   },
   "file_extension": ".py",
   "mimetype": "text/x-python",
   "name": "python",
   "nbconvert_exporter": "python",
   "pygments_lexer": "ipython3",
   "version": "3.6.0"
  }
 },
 "nbformat": 4,
 "nbformat_minor": 2
}
