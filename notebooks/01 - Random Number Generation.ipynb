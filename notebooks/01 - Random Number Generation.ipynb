{
 "cells": [
  {
   "cell_type": "markdown",
   "metadata": {},
   "source": [
    "# Random Number Generation\n",
    "Given a biased coin of unknown bias, can you generate fair random bits? Given such a coin, can you generate random bits with a desired bias? Given a random source of numbers chosen independently and uniformly from $ [0, 1] $, can you generate numbers according to a normal random variable?\n",
    "\n",
    "This chapter will focus on answering such questions, providing a range of methods varying in simplicity and efficiency.\n",
    "\n",
    "One can easily discard this chapter without affecting the understanding the rest of the lecture notes, although some of the ideas first discussed in chapter might be helpful in the following chapters.\n",
    "\n",
    "## Biasing and Unbiasing Coins\n",
    "We are discussing this subject here, not because it is of use to us, but because the ideas are simple, yet inherently beautiful, and it is related to our subject in its spirit.\n",
    "\n",
    "### Unbiasing\n",
    "Here, we will start with the following question:\n",
    "> Given a possibly biased coin, emulate a fair one!\n",
    "\n",
    "The idea we will discuss is usually attributed to John von Neumann: throw your coin twice, count \"heads then tails\" as heads, and \"tails then heads\" as tails. Repeat on the other two cases!\n",
    "\n",
    "The two events have probability $ \\mathbb{P}(HT \\vert \\{HT, TH)\\} = \\mathbb{P}(TH \\vert \\{HT, TH)\\}) = \\frac{p(1-p)}{2p(1-p)} = \\frac{1}{2} $.\n",
    "\n",
    "Let's demonstrate the simple process:"
   ]
  },
  {
   "cell_type": "code",
   "execution_count": 50,
   "metadata": {},
   "outputs": [
    {
     "data": {
      "text/plain": [
       "(array([ 514.,    0.,  486.]),\n",
       " array([ 0.        ,  0.33333333,  0.66666667,  1.        ]),\n",
       " <a list of 3 Patch objects>)"
      ]
     },
     "execution_count": 50,
     "metadata": {},
     "output_type": "execute_result"
    },
    {
     "data": {
      "image/png": "[encoded data removed]",
      "text/plain": [
       "<matplotlib.figure.Figure at 0x7faeb6d92e80>"
      ]
     },
     "metadata": {},
     "output_type": "display_data"
    }
   ],
   "source": [
    "import numpy as np\n",
    "import matplotlib.pyplot as plt\n",
    "%matplotlib inline\n",
    "\n",
    "np.random.seed(1)\n",
    "\n",
    "bias = 0.7\n",
    "nSim = 1000\n",
    "\n",
    "throws = np.zeros(nSim)\n",
    "for i in range(nSim):\n",
    "    while True:\n",
    "        x = 1 if np.random.rand() > bias else 0\n",
    "        y = 1 if np.random.rand() > bias else 0\n",
    "        if x != y:\n",
    "            throws[i] = x\n",
    "            break\n",
    "\n",
    "plt.hist(throws, bins=3)"
   ]
  },
  {
   "cell_type": "markdown",
   "metadata": {},
   "source": [
    "The above process takes $ \\frac{1}{p(1-p)} $ throws of the coin to obtain a single bit.\n",
    "\n",
    "### Biasing\n",
    "Now, we turn to the opposite problem! Can you build a coin of a given bias? Even an irrational bias? We can of course assume we have a fair coin, since we now know how to unbias it.\n",
    "\n",
    "> Can you emulate a coin of bias $\\frac{1}{\\pi}$?\n",
    "\n",
    "For a given number $ p \\in [0, 1] $, write down the binary expansion of $p$. It is obvious that $p = \\sum_{i=1}^{\\infty} b_i (\\frac{1}{2})^i $, where $b_i$s are the numbers in the binary expansion of $p$.\n",
    "\n",
    "How can that help? We can simulate events of probability $2^{-i}$ using our coin. Just throw the fair coin until the first \"heads\" comes up! The probability that the process takes $i$ steps is exactly $2^{-i}$. If the first head comes up at $i$th position, return heads if $b_i$ is 1, and return tails otherwise.\n",
    "\n",
    "The probability of returning heads is by definition $ \\sum_{i=1}^{\\infty} b_i 2^{-i} = p $."
   ]
  },
  {
   "cell_type": "markdown",
   "metadata": {},
   "source": [
    "## Generating Discrete Random Variables\n",
    "From now on, what we take for granted is a source of independent random numbers chosen uniformly from $ [0, 1] $.\n",
    "\n",
    "In Python, one can use the `random` function from the `random` package, or the `numpy.random.rand` function, as in the previous code samples. (We will mostly use the later.)\n",
    "\n",
    "### Bernouli/Binomial Random Variable\n",
    "This is a the basic case, if $u$ is chosen uniformly from $ [0, 1] $, $\\mathbb{P}(u <= p) = p $. `numpy.random.rand` also takes an argument, the number of samples to return. This leads to the following code to generate a Binomial random variable:"
   ]
  },
  {
   "cell_type": "code",
   "execution_count": 54,
   "metadata": {},
   "outputs": [
    {
     "data": {
      "text/plain": [
       "(array([  12.,   30.,   79.,  194.,  242.,  231.,  152.,   45.,   12.,    3.]),\n",
       " array([ 451. ,  461.3,  471.6,  481.9,  492.2,  502.5,  512.8,  523.1,\n",
       "         533.4,  543.7,  554. ]),\n",
       " <a list of 10 Patch objects>)"
      ]
     },
     "execution_count": 54,
     "metadata": {},
     "output_type": "execute_result"
    },
    {
     "data": {
      "image/png": "[encoded data removed]",
      "text/plain": [
       "<matplotlib.figure.Figure at 0x7faeb6a269e8>"
      ]
     },
     "metadata": {},
     "output_type": "display_data"
    }
   ],
   "source": [
    "n = 1000\n",
    "p = 0.5\n",
    "plt.hist([(np.random.rand(n) > p).sum() for _ in range(1000)], bins=10)"
   ]
  },
  {
   "cell_type": "markdown",
   "metadata": {},
   "source": [
    "### Discrete Random Variables on Finite Spaces\n",
    "We want to choose samples of a finite set, given the probability of each member. For example, consider the case of simulating the throw of a single dice. The set will be $\\{1,2,3,\\dots,6\\}$, with probabilities all equal to $\\frac{1}{6}$.\n",
    "\n",
    "Without loss of generality (in the method, not the actual implementation), here we assume that the finite set is the set $\\{0,1,2, \\dots, n\\}$ for some $n$, and the probabilities are given in a vector $[p_0, p_1, \\dots, p_n]$.\n",
    "\n",
    "The first method we will discuss is going to divide the unit interval to sectinos of length $p_0, p_1, \\dots, p_n$, and return the value assigned to the inteval that $u$ lands in. (We will extend this method to work for random variables on infinite sample spaces as well.)"
   ]
  },
  {
   "cell_type": "code",
   "execution_count": 63,
   "metadata": {},
   "outputs": [
    {
     "data": {
      "text/plain": [
       "(array([ 4982.,     0.,  2530.,     0.,     0.,  1249.,     0.,   618.,\n",
       "            0.,   621.]),\n",
       " array([ 0. ,  0.4,  0.8,  1.2,  1.6,  2. ,  2.4,  2.8,  3.2,  3.6,  4. ]),\n",
       " <a list of 10 Patch objects>)"
      ]
     },
     "execution_count": 63,
     "metadata": {},
     "output_type": "execute_result"
    },
    {
     "data": {
      "image/png": "[encoded data removed]",
      "text/plain": [
       "<matplotlib.figure.Figure at 0x7faeb6658208>"
      ]
     },
     "metadata": {},
     "output_type": "display_data"
    }
   ],
   "source": [
    "class RV():\n",
    "    def __init__(self, probs):\n",
    "        self.intervals = np.cumsum(np.array(probs))\n",
    "    \n",
    "    def __call__(self):\n",
    "        r = np.random.rand()\n",
    "        return (np.where(self.intervals > r))[0][0]\n",
    "\n",
    "rv = RV([1/2, 1/4, 1/8, 1/16, 1/6])\n",
    "plt.hist([rv() for _ in range(10000)])"
   ]
  }
 ],
 "metadata": {
  "kernelspec": {
   "display_name": "Python 3",
   "language": "python",
   "name": "python3"
  },
  "language_info": {
   "codemirror_mode": {
    "name": "ipython",
    "version": 3
   },
   "file_extension": ".py",
   "mimetype": "text/x-python",
   "name": "python",
   "nbconvert_exporter": "python",
   "pygments_lexer": "ipython3",
   "version": "3.6.0"
  }
 },
 "nbformat": 4,
 "nbformat_minor": 2
}
