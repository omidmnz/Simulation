{
 "cells": [
  {
   "cell_type": "markdown",
   "metadata": {},
   "source": [
    "Given a biased coin of unknown bias, can you generate fair random bits? Given such a coin, can you generate random bits with a desired bias? Given a random source of numbers chosen independently and uniformly from $ [0, 1] $, can you generate numbers according to a normal random variable?\n",
    "\n",
    "This chapter will focus on answering such questions, providing a range of methods varying in simplicity and efficiency.\n",
    "\n",
    "One can easily discard this chapter without affecting the understanding the rest of the lecture notes, although some of the ideas first discussed in chapter might be helpful in the following chapters.\n",
    "\n",
    "## Biasing and Unbiasing Coins\n",
    "We are discussing this subject here, not because it is of use to us, but because the ideas are simple, yet inherently beautiful, and it is related to our subject in its spirit.\n",
    "\n",
    "### Unbiasing\n",
    "Here, we will start with the following question:\n",
    "> Given a biased coin, emulate a fair one!\n",
    "\n",
    "The idea we will discuss is usually attributed to John von Neumann: throw your coin twice, count \"heads then tails\" as heads, and \"tails then heads\" as tails. Repeat on the other two cases!\n",
    "\n",
    "The two events have probability $ \\mathbb{P}(HT \\vert \\{HT, TH)\\} = \\mathbb{P}(TH \\vert \\{HT, TH)\\}) = \\frac{p(1-p)}{2p(1-p)} = \\frac{1}{2} $.\n",
    "\n",
    "Let's demonstrate the simple process:"
   ]
  },
  {
   "cell_type": "code",
   "execution_count": 20,
   "metadata": {},
   "outputs": [
    {
     "data": {
      "text/plain": [
       "(array([ 486.,    0.,  514.]),\n",
       " array([ 0.        ,  0.33333333,  0.66666667,  1.        ]),\n",
       " <a list of 3 Patch objects>)"
      ]
     },
     "execution_count": 20,
     "metadata": {},
     "output_type": "execute_result"
    },
    {
     "data": {
      "image/png": "[encoded data removed]",
      "text/plain": [
       "<matplotlib.figure.Figure at 0x7faeb84ebcc0>"
      ]
     },
     "metadata": {},
     "output_type": "display_data"
    }
   ],
   "source": [
    "import numpy as np\n",
    "import matplotlib.pyplot as plt\n",
    "%matplotlib inline\n",
    "\n",
    "bias = 0.7\n",
    "nSim = 1000\n",
    "\n",
    "throws = np.zeros(nSim)\n",
    "for i in range(nSim):\n",
    "    while True:\n",
    "        x = 1 if np.random.rand() > bias else 0\n",
    "        y = 1 if np.random.rand() > bias else 0\n",
    "        if x != y:\n",
    "            throws[i] = x\n",
    "            break\n",
    "\n",
    "plt.hist(throws, bins=3)"
   ]
  },
  {
   "cell_type": "markdown",
   "metadata": {},
   "source": [
    "The above process takes $ \\frac{1}{p(1-p)} $ throws of the coin to obtain a single bit.\n",
    "\n",
    "### Biasing\n",
    "Now, we turn to the opposite problem! Can you build a coin of a given bias? Even an irrational bias? We can of course assume we have a fair coin, since we now know how to unbias it.\n",
    "\n",
    "> Can you emulate a coin of bias $\\frac{1}{\\pi}$?\n",
    "\n",
    "For a given number $ p \\in [0, 1] $, write down the binary expansion of $p$. It is obvious that $p = \\sum_{i=1}^{\\infty} b_i (\\frac{1}{2})^i $, where $b_i$s are the numbers in the binary expansion of $p$.\n",
    "\n",
    "How can that help? We can simulate events of probability $2^{-i}$ using our coin. Just throw the fair coin until the first \"heads\" comes up! The probability that the process takes $i$ steps is exactly $2^{-i}$. If the first head comes up at $i$th position, return heads if $b_i$ is 1, and return tails otherwise.\n",
    "\n",
    "The probability of returning heads is by definition $ \\sum_{i=1}^{\\infty} b_i 2^{-i} = p $."
   ]
  },
  {
   "cell_type": "markdown",
   "metadata": {},
   "source": [
    "## Generating Discrete Random Variables\n",
    "From now on, what we take for granted is a source of independent random numbers chosen uniformly from $ [0, 1] $.\n",
    "\n",
    "In Python, one can use the `random` function from the `random` package, or the `numpy.random.rand` function, as in the previous code samples. (We will mostly use the later.)\n",
    "\n",
    "### Bernouli/Binomial Random Variable\n",
    "This is a the basic case, if $u$ is chosen uniformly from $ [0, 1] $, $\\mathbb{P}(u <= p) = p $. `numpy.random.rand` also takes an argument, the number of samples to return. This leads to the following code to generate a Binomial random variable:"
   ]
  },
  {
   "cell_type": "code",
   "execution_count": 46,
   "metadata": {},
   "outputs": [
    {
     "data": {
      "text/plain": [
       "(array([   8.,   18.,   61.,  142.,  193.,  257.,  167.,  106.,   39.,    9.]),\n",
       " array([ 449. ,  458.8,  468.6,  478.4,  488.2,  498. ,  507.8,  517.6,\n",
       "         527.4,  537.2,  547. ]),\n",
       " <a list of 10 Patch objects>)"
      ]
     },
     "execution_count": 46,
     "metadata": {},
     "output_type": "execute_result"
    },
    {
     "data": {
      "image/png": "[encoded data removed]",
      "text/plain": [
       "<matplotlib.figure.Figure at 0x7faeb7349eb8>"
      ]
     },
     "metadata": {},
     "output_type": "display_data"
    }
   ],
   "source": [
    "n = 1000\n",
    "p = 0.5\n",
    "plt.hist([sum(np.random.rand(n) > p) for _ in range(1000)], bins=10)"
   ]
  }
 ],
 "metadata": {
  "kernelspec": {
   "display_name": "Python 3",
   "language": "python",
   "name": "python3"
  },
  "language_info": {
   "codemirror_mode": {
    "name": "ipython",
    "version": 3
   },
   "file_extension": ".py",
   "mimetype": "text/x-python",
   "name": "python",
   "nbconvert_exporter": "python",
   "pygments_lexer": "ipython3",
   "version": "3.6.0"
  }
 },
 "nbformat": 4,
 "nbformat_minor": 2
}
